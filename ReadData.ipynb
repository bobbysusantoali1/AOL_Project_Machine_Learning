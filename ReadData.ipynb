{
 "cells": [
  {
   "cell_type": "code",
   "execution_count": 1,
   "id": "450081ab-99ce-44c7-b4db-ecd68eb1442c",
   "metadata": {},
   "outputs": [],
   "source": [
    "import pandas as pd"
   ]
  },
  {
   "cell_type": "code",
   "execution_count": 2,
   "id": "fb86adef-2fc3-45ae-b3c3-d672154a7c5b",
   "metadata": {},
   "outputs": [],
   "source": [
    "df = pd.read_csv(\"DataMix.csv\", sep = \";\")"
   ]
  },
  {
   "cell_type": "code",
   "execution_count": 3,
   "id": "b76c8aab-973c-4946-a561-f7e8008d1852",
   "metadata": {},
   "outputs": [
    {
     "data": {
      "text/html": [
       "<div>\n",
       "<style scoped>\n",
       "    .dataframe tbody tr th:only-of-type {\n",
       "        vertical-align: middle;\n",
       "    }\n",
       "\n",
       "    .dataframe tbody tr th {\n",
       "        vertical-align: top;\n",
       "    }\n",
       "\n",
       "    .dataframe thead th {\n",
       "        text-align: right;\n",
       "    }\n",
       "</style>\n",
       "<table border=\"1\" class=\"dataframe\">\n",
       "  <thead>\n",
       "    <tr style=\"text-align: right;\">\n",
       "      <th></th>\n",
       "      <th>NO</th>\n",
       "      <th>HARGA</th>\n",
       "      <th>LB</th>\n",
       "      <th>LT</th>\n",
       "      <th>KT</th>\n",
       "      <th>KM</th>\n",
       "      <th>GRS</th>\n",
       "    </tr>\n",
       "  </thead>\n",
       "  <tbody>\n",
       "    <tr>\n",
       "      <th>0</th>\n",
       "      <td>1</td>\n",
       "      <td>3800000000</td>\n",
       "      <td>220</td>\n",
       "      <td>220</td>\n",
       "      <td>3</td>\n",
       "      <td>3</td>\n",
       "      <td>TIDAK ADA</td>\n",
       "    </tr>\n",
       "    <tr>\n",
       "      <th>1</th>\n",
       "      <td>2</td>\n",
       "      <td>4600000000</td>\n",
       "      <td>180</td>\n",
       "      <td>137</td>\n",
       "      <td>4</td>\n",
       "      <td>3</td>\n",
       "      <td>ADA</td>\n",
       "    </tr>\n",
       "    <tr>\n",
       "      <th>2</th>\n",
       "      <td>3</td>\n",
       "      <td>3000000000</td>\n",
       "      <td>267</td>\n",
       "      <td>250</td>\n",
       "      <td>4</td>\n",
       "      <td>4</td>\n",
       "      <td>ADA</td>\n",
       "    </tr>\n",
       "    <tr>\n",
       "      <th>3</th>\n",
       "      <td>4</td>\n",
       "      <td>430000000</td>\n",
       "      <td>40</td>\n",
       "      <td>25</td>\n",
       "      <td>2</td>\n",
       "      <td>2</td>\n",
       "      <td>TIDAK ADA</td>\n",
       "    </tr>\n",
       "    <tr>\n",
       "      <th>4</th>\n",
       "      <td>5</td>\n",
       "      <td>9000000000</td>\n",
       "      <td>400</td>\n",
       "      <td>355</td>\n",
       "      <td>6</td>\n",
       "      <td>5</td>\n",
       "      <td>ADA</td>\n",
       "    </tr>\n",
       "    <tr>\n",
       "      <th>...</th>\n",
       "      <td>...</td>\n",
       "      <td>...</td>\n",
       "      <td>...</td>\n",
       "      <td>...</td>\n",
       "      <td>...</td>\n",
       "      <td>...</td>\n",
       "      <td>...</td>\n",
       "    </tr>\n",
       "    <tr>\n",
       "      <th>2006</th>\n",
       "      <td>2007</td>\n",
       "      <td>16000000000</td>\n",
       "      <td>550</td>\n",
       "      <td>488</td>\n",
       "      <td>6</td>\n",
       "      <td>5</td>\n",
       "      <td>ADA</td>\n",
       "    </tr>\n",
       "    <tr>\n",
       "      <th>2007</th>\n",
       "      <td>2008</td>\n",
       "      <td>4500000000</td>\n",
       "      <td>270</td>\n",
       "      <td>209</td>\n",
       "      <td>4</td>\n",
       "      <td>4</td>\n",
       "      <td>ADA</td>\n",
       "    </tr>\n",
       "    <tr>\n",
       "      <th>2008</th>\n",
       "      <td>2009</td>\n",
       "      <td>29000000000</td>\n",
       "      <td>400</td>\n",
       "      <td>692</td>\n",
       "      <td>4</td>\n",
       "      <td>3</td>\n",
       "      <td>TIDAK ADA</td>\n",
       "    </tr>\n",
       "    <tr>\n",
       "      <th>2009</th>\n",
       "      <td>2010</td>\n",
       "      <td>1700000000</td>\n",
       "      <td>140</td>\n",
       "      <td>102</td>\n",
       "      <td>4</td>\n",
       "      <td>3</td>\n",
       "      <td>TIDAK ADA</td>\n",
       "    </tr>\n",
       "    <tr>\n",
       "      <th>2010</th>\n",
       "      <td>2011</td>\n",
       "      <td>1250000000</td>\n",
       "      <td>110</td>\n",
       "      <td>63</td>\n",
       "      <td>3</td>\n",
       "      <td>3</td>\n",
       "      <td>TIDAK ADA</td>\n",
       "    </tr>\n",
       "  </tbody>\n",
       "</table>\n",
       "<p>2011 rows × 7 columns</p>\n",
       "</div>"
      ],
      "text/plain": [
       "        NO        HARGA   LB   LT  KT  KM        GRS\n",
       "0        1   3800000000  220  220   3   3  TIDAK ADA\n",
       "1        2   4600000000  180  137   4   3        ADA\n",
       "2        3   3000000000  267  250   4   4        ADA\n",
       "3        4    430000000   40   25   2   2  TIDAK ADA\n",
       "4        5   9000000000  400  355   6   5        ADA\n",
       "...    ...          ...  ...  ...  ..  ..        ...\n",
       "2006  2007  16000000000  550  488   6   5        ADA\n",
       "2007  2008   4500000000  270  209   4   4        ADA\n",
       "2008  2009  29000000000  400  692   4   3  TIDAK ADA\n",
       "2009  2010   1700000000  140  102   4   3  TIDAK ADA\n",
       "2010  2011   1250000000  110   63   3   3  TIDAK ADA\n",
       "\n",
       "[2011 rows x 7 columns]"
      ]
     },
     "execution_count": 3,
     "metadata": {},
     "output_type": "execute_result"
    }
   ],
   "source": [
    "df"
   ]
  },
  {
   "cell_type": "code",
   "execution_count": 4,
   "id": "947a5805-5b23-4e8f-9ee3-e613b802ee38",
   "metadata": {},
   "outputs": [],
   "source": [
    "import matplotlib.pyplot as mp"
   ]
  },
  {
   "cell_type": "code",
   "execution_count": 5,
   "id": "bf22e229-557a-43c3-924c-91c520d8f92a",
   "metadata": {},
   "outputs": [],
   "source": [
    "harga = df.loc[:, 'HARGA']"
   ]
  },
  {
   "cell_type": "code",
   "execution_count": 6,
   "id": "c87b51c4-4677-46cc-b3a9-f8634feab821",
   "metadata": {},
   "outputs": [
    {
     "data": {
      "text/plain": [
       "0        3800000000\n",
       "1        4600000000\n",
       "2        3000000000\n",
       "3         430000000\n",
       "4        9000000000\n",
       "           ...     \n",
       "2006    16000000000\n",
       "2007     4500000000\n",
       "2008    29000000000\n",
       "2009     1700000000\n",
       "2010     1250000000\n",
       "Name: HARGA, Length: 2011, dtype: int64"
      ]
     },
     "execution_count": 6,
     "metadata": {},
     "output_type": "execute_result"
    }
   ],
   "source": [
    "harga"
   ]
  },
  {
   "cell_type": "code",
   "execution_count": 7,
   "id": "b3060e3c-c451-4bfc-befc-1b6d3d5bcb96",
   "metadata": {},
   "outputs": [],
   "source": [
    "harga = list(harga.values)"
   ]
  },
  {
   "cell_type": "code",
   "execution_count": 8,
   "id": "07223d39-1f98-4779-be88-3f0de8689fcf",
   "metadata": {},
   "outputs": [
    {
     "data": {
      "text/plain": [
       "(array([ 71., 169., 278., 177., 197., 140., 111.,  83.,  65.,  47.,  74.,\n",
       "         88.,  47.,  51.,  61.,  35.,  27.,  33.,  31.,  37.,  10.,   7.,\n",
       "         23.,  24.,   2.,   4.,  10.,  10.,   9.,   2.,  15.,   9.,   1.,\n",
       "          6.,   2.,   3.,   0.,   1.,   1.,   2.,   0.,   0.,   0.,  11.,\n",
       "          1.,   1.,   0.,   4.,   0.,   0.,   0.,   3.,   0.,   0.,   4.,\n",
       "          0.,   0.,   1.,   0.,   3.,   0.,   1.,   0.,   1.,   0.,   0.,\n",
       "          0.,   4.,   1.,   0.,   0.,   1.,   0.,   0.,   0.,   1.,   0.,\n",
       "          0.,   0.,   1.,   0.,   0.,   0.,   0.,   0.,   0.,   0.,   1.,\n",
       "          0.,   0.,   0.,   0.,   0.,   0.,   0.,   1.,   0.,   0.,   0.,\n",
       "          0.,   0.,   0.,   0.,   0.,   0.,   0.,   0.,   1.,   0.,   0.,\n",
       "          0.,   0.,   0.,   0.,   0.,   0.,   0.,   0.,   0.,   0.,   0.,\n",
       "          0.,   0.,   0.,   0.,   0.,   0.,   0.,   0.,   0.,   0.,   1.,\n",
       "          0.,   0.,   1.,   1.,   0.,   0.,   0.,   0.,   1.,   0.,   0.,\n",
       "          1.,   0.,   0.,   0.,   1.,   0.,   0.,   0.,   0.,   0.,   0.,\n",
       "          0.,   0.,   0.,   0.,   0.,   0.,   0.,   0.,   0.,   0.,   0.,\n",
       "          0.,   0.,   0.,   0.,   0.,   0.,   0.,   0.,   0.,   0.,   0.,\n",
       "          0.,   0.,   0.,   0.,   0.,   0.,   0.,   0.,   0.,   0.,   0.,\n",
       "          0.,   0.,   0.,   0.,   0.,   0.,   0.,   0.,   0.,   0.,   0.,\n",
       "          0.,   1.]),\n",
       " array([4.3000000e+08, 1.6778500e+09, 2.9257000e+09, 4.1735500e+09,\n",
       "        5.4214000e+09, 6.6692500e+09, 7.9171000e+09, 9.1649500e+09,\n",
       "        1.0412800e+10, 1.1660650e+10, 1.2908500e+10, 1.4156350e+10,\n",
       "        1.5404200e+10, 1.6652050e+10, 1.7899900e+10, 1.9147750e+10,\n",
       "        2.0395600e+10, 2.1643450e+10, 2.2891300e+10, 2.4139150e+10,\n",
       "        2.5387000e+10, 2.6634850e+10, 2.7882700e+10, 2.9130550e+10,\n",
       "        3.0378400e+10, 3.1626250e+10, 3.2874100e+10, 3.4121950e+10,\n",
       "        3.5369800e+10, 3.6617650e+10, 3.7865500e+10, 3.9113350e+10,\n",
       "        4.0361200e+10, 4.1609050e+10, 4.2856900e+10, 4.4104750e+10,\n",
       "        4.5352600e+10, 4.6600450e+10, 4.7848300e+10, 4.9096150e+10,\n",
       "        5.0344000e+10, 5.1591850e+10, 5.2839700e+10, 5.4087550e+10,\n",
       "        5.5335400e+10, 5.6583250e+10, 5.7831100e+10, 5.9078950e+10,\n",
       "        6.0326800e+10, 6.1574650e+10, 6.2822500e+10, 6.4070350e+10,\n",
       "        6.5318200e+10, 6.6566050e+10, 6.7813900e+10, 6.9061750e+10,\n",
       "        7.0309600e+10, 7.1557450e+10, 7.2805300e+10, 7.4053150e+10,\n",
       "        7.5301000e+10, 7.6548850e+10, 7.7796700e+10, 7.9044550e+10,\n",
       "        8.0292400e+10, 8.1540250e+10, 8.2788100e+10, 8.4035950e+10,\n",
       "        8.5283800e+10, 8.6531650e+10, 8.7779500e+10, 8.9027350e+10,\n",
       "        9.0275200e+10, 9.1523050e+10, 9.2770900e+10, 9.4018750e+10,\n",
       "        9.5266600e+10, 9.6514450e+10, 9.7762300e+10, 9.9010150e+10,\n",
       "        1.0025800e+11, 1.0150585e+11, 1.0275370e+11, 1.0400155e+11,\n",
       "        1.0524940e+11, 1.0649725e+11, 1.0774510e+11, 1.0899295e+11,\n",
       "        1.1024080e+11, 1.1148865e+11, 1.1273650e+11, 1.1398435e+11,\n",
       "        1.1523220e+11, 1.1648005e+11, 1.1772790e+11, 1.1897575e+11,\n",
       "        1.2022360e+11, 1.2147145e+11, 1.2271930e+11, 1.2396715e+11,\n",
       "        1.2521500e+11, 1.2646285e+11, 1.2771070e+11, 1.2895855e+11,\n",
       "        1.3020640e+11, 1.3145425e+11, 1.3270210e+11, 1.3394995e+11,\n",
       "        1.3519780e+11, 1.3644565e+11, 1.3769350e+11, 1.3894135e+11,\n",
       "        1.4018920e+11, 1.4143705e+11, 1.4268490e+11, 1.4393275e+11,\n",
       "        1.4518060e+11, 1.4642845e+11, 1.4767630e+11, 1.4892415e+11,\n",
       "        1.5017200e+11, 1.5141985e+11, 1.5266770e+11, 1.5391555e+11,\n",
       "        1.5516340e+11, 1.5641125e+11, 1.5765910e+11, 1.5890695e+11,\n",
       "        1.6015480e+11, 1.6140265e+11, 1.6265050e+11, 1.6389835e+11,\n",
       "        1.6514620e+11, 1.6639405e+11, 1.6764190e+11, 1.6888975e+11,\n",
       "        1.7013760e+11, 1.7138545e+11, 1.7263330e+11, 1.7388115e+11,\n",
       "        1.7512900e+11, 1.7637685e+11, 1.7762470e+11, 1.7887255e+11,\n",
       "        1.8012040e+11, 1.8136825e+11, 1.8261610e+11, 1.8386395e+11,\n",
       "        1.8511180e+11, 1.8635965e+11, 1.8760750e+11, 1.8885535e+11,\n",
       "        1.9010320e+11, 1.9135105e+11, 1.9259890e+11, 1.9384675e+11,\n",
       "        1.9509460e+11, 1.9634245e+11, 1.9759030e+11, 1.9883815e+11,\n",
       "        2.0008600e+11, 2.0133385e+11, 2.0258170e+11, 2.0382955e+11,\n",
       "        2.0507740e+11, 2.0632525e+11, 2.0757310e+11, 2.0882095e+11,\n",
       "        2.1006880e+11, 2.1131665e+11, 2.1256450e+11, 2.1381235e+11,\n",
       "        2.1506020e+11, 2.1630805e+11, 2.1755590e+11, 2.1880375e+11,\n",
       "        2.2005160e+11, 2.2129945e+11, 2.2254730e+11, 2.2379515e+11,\n",
       "        2.2504300e+11, 2.2629085e+11, 2.2753870e+11, 2.2878655e+11,\n",
       "        2.3003440e+11, 2.3128225e+11, 2.3253010e+11, 2.3377795e+11,\n",
       "        2.3502580e+11, 2.3627365e+11, 2.3752150e+11, 2.3876935e+11,\n",
       "        2.4001720e+11, 2.4126505e+11, 2.4251290e+11, 2.4376075e+11,\n",
       "        2.4500860e+11, 2.4625645e+11, 2.4750430e+11, 2.4875215e+11,\n",
       "        2.5000000e+11]),\n",
       " <BarContainer object of 200 artists>)"
      ]
     },
     "execution_count": 8,
     "metadata": {},
     "output_type": "execute_result"
    },
    {
     "data": {
      "image/png": "[encoded data removed]",
      "text/plain": [
       "<Figure size 432x288 with 1 Axes>"
      ]
     },
     "metadata": {
      "needs_background": "light"
     },
     "output_type": "display_data"
    }
   ],
   "source": [
    "mp.hist(harga, 200)"
   ]
  }
 ],
 "metadata": {
  "kernelspec": {
   "display_name": "Python 3 (ipykernel)",
   "language": "python",
   "name": "python3"
  },
  "language_info": {
   "codemirror_mode": {
    "name": "ipython",
    "version": 3
   },
   "file_extension": ".py",
   "mimetype": "text/x-python",
   "name": "python",
   "nbconvert_exporter": "python",
   "pygments_lexer": "ipython3",
   "version": "3.9.7"
  }
 },
 "nbformat": 4,
 "nbformat_minor": 5
}
