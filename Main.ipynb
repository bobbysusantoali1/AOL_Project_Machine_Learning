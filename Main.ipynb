{
 "cells": [
  {
   "cell_type": "code",
   "execution_count": 1,
   "id": "bb10754a-baca-4d25-b5e2-99ef9013848a",
   "metadata": {},
   "outputs": [],
   "source": [
    "import pandas as pd\n",
    "import numpy as np"
   ]
  },
  {
   "cell_type": "code",
   "execution_count": 2,
   "id": "c575e27f-ab97-498f-9751-e1ab365e08cb",
   "metadata": {},
   "outputs": [],
   "source": [
    "df = pd.read_csv(\"DataMix.csv\", sep = ';')"
   ]
  },
  {
   "cell_type": "code",
   "execution_count": 3,
   "id": "cc9c322f-e87a-47c1-b57d-da67c682c1cf",
   "metadata": {},
   "outputs": [
    {
     "name": "stdout",
     "output_type": "stream",
     "text": [
      "<class 'pandas.core.frame.DataFrame'>\n",
      "RangeIndex: 2011 entries, 0 to 2010\n",
      "Data columns (total 7 columns):\n",
      " #   Column  Non-Null Count  Dtype \n",
      "---  ------  --------------  ----- \n",
      " 0   NO      2011 non-null   int64 \n",
      " 1   HARGA   2011 non-null   int64 \n",
      " 2   LB      2011 non-null   int64 \n",
      " 3   LT      2011 non-null   int64 \n",
      " 4   KT      2011 non-null   int64 \n",
      " 5   KM      2011 non-null   int64 \n",
      " 6   GRS     2011 non-null   object\n",
      "dtypes: int64(6), object(1)\n",
      "memory usage: 110.1+ KB\n"
     ]
    }
   ],
   "source": [
    "df.info()"
   ]
  },
  {
   "cell_type": "code",
   "execution_count": 4,
   "id": "a9198763-1a5e-413c-a5c9-9abbce7a6180",
   "metadata": {},
   "outputs": [
    {
     "data": {
      "text/html": [
       "<div>\n",
       "<style scoped>\n",
       "    .dataframe tbody tr th:only-of-type {\n",
       "        vertical-align: middle;\n",
       "    }\n",
       "\n",
       "    .dataframe tbody tr th {\n",
       "        vertical-align: top;\n",
       "    }\n",
       "\n",
       "    .dataframe thead th {\n",
       "        text-align: right;\n",
       "    }\n",
       "</style>\n",
       "<table border=\"1\" class=\"dataframe\">\n",
       "  <thead>\n",
       "    <tr style=\"text-align: right;\">\n",
       "      <th></th>\n",
       "      <th>NO</th>\n",
       "      <th>HARGA</th>\n",
       "      <th>LB</th>\n",
       "      <th>LT</th>\n",
       "      <th>KT</th>\n",
       "      <th>KM</th>\n",
       "    </tr>\n",
       "  </thead>\n",
       "  <tbody>\n",
       "    <tr>\n",
       "      <th>count</th>\n",
       "      <td>2011.000000</td>\n",
       "      <td>2.011000e+03</td>\n",
       "      <td>2011.000000</td>\n",
       "      <td>2011.000000</td>\n",
       "      <td>2011.000000</td>\n",
       "      <td>2011.000000</td>\n",
       "    </tr>\n",
       "    <tr>\n",
       "      <th>mean</th>\n",
       "      <td>1006.000000</td>\n",
       "      <td>1.252982e+10</td>\n",
       "      <td>381.436101</td>\n",
       "      <td>383.312780</td>\n",
       "      <td>4.563401</td>\n",
       "      <td>3.773247</td>\n",
       "    </tr>\n",
       "    <tr>\n",
       "      <th>std</th>\n",
       "      <td>580.670015</td>\n",
       "      <td>1.632325e+10</td>\n",
       "      <td>359.200567</td>\n",
       "      <td>421.966604</td>\n",
       "      <td>1.803350</td>\n",
       "      <td>1.685850</td>\n",
       "    </tr>\n",
       "    <tr>\n",
       "      <th>min</th>\n",
       "      <td>1.000000</td>\n",
       "      <td>4.300000e+08</td>\n",
       "      <td>38.000000</td>\n",
       "      <td>22.000000</td>\n",
       "      <td>1.000000</td>\n",
       "      <td>1.000000</td>\n",
       "    </tr>\n",
       "    <tr>\n",
       "      <th>25%</th>\n",
       "      <td>503.500000</td>\n",
       "      <td>4.000000e+09</td>\n",
       "      <td>196.000000</td>\n",
       "      <td>141.500000</td>\n",
       "      <td>4.000000</td>\n",
       "      <td>3.000000</td>\n",
       "    </tr>\n",
       "    <tr>\n",
       "      <th>50%</th>\n",
       "      <td>1006.000000</td>\n",
       "      <td>7.500000e+09</td>\n",
       "      <td>300.000000</td>\n",
       "      <td>248.000000</td>\n",
       "      <td>4.000000</td>\n",
       "      <td>4.000000</td>\n",
       "    </tr>\n",
       "    <tr>\n",
       "      <th>75%</th>\n",
       "      <td>1508.500000</td>\n",
       "      <td>1.550000e+10</td>\n",
       "      <td>500.000000</td>\n",
       "      <td>472.000000</td>\n",
       "      <td>5.000000</td>\n",
       "      <td>4.000000</td>\n",
       "    </tr>\n",
       "    <tr>\n",
       "      <th>max</th>\n",
       "      <td>2011.000000</td>\n",
       "      <td>2.500000e+11</td>\n",
       "      <td>10000.000000</td>\n",
       "      <td>6790.000000</td>\n",
       "      <td>27.000000</td>\n",
       "      <td>27.000000</td>\n",
       "    </tr>\n",
       "  </tbody>\n",
       "</table>\n",
       "</div>"
      ],
      "text/plain": [
       "                NO         HARGA            LB           LT           KT  \\\n",
       "count  2011.000000  2.011000e+03   2011.000000  2011.000000  2011.000000   \n",
       "mean   1006.000000  1.252982e+10    381.436101   383.312780     4.563401   \n",
       "std     580.670015  1.632325e+10    359.200567   421.966604     1.803350   \n",
       "min       1.000000  4.300000e+08     38.000000    22.000000     1.000000   \n",
       "25%     503.500000  4.000000e+09    196.000000   141.500000     4.000000   \n",
       "50%    1006.000000  7.500000e+09    300.000000   248.000000     4.000000   \n",
       "75%    1508.500000  1.550000e+10    500.000000   472.000000     5.000000   \n",
       "max    2011.000000  2.500000e+11  10000.000000  6790.000000    27.000000   \n",
       "\n",
       "                KM  \n",
       "count  2011.000000  \n",
       "mean      3.773247  \n",
       "std       1.685850  \n",
       "min       1.000000  \n",
       "25%       3.000000  \n",
       "50%       4.000000  \n",
       "75%       4.000000  \n",
       "max      27.000000  "
      ]
     },
     "execution_count": 4,
     "metadata": {},
     "output_type": "execute_result"
    }
   ],
   "source": [
    "df.describe()"
   ]
  },
  {
   "cell_type": "code",
   "execution_count": 6,
   "id": "c89c9eda-2605-47f2-9796-3e06cfb019ca",
   "metadata": {},
   "outputs": [
    {
     "data": {
      "text/html": [
       "<div>\n",
       "<style scoped>\n",
       "    .dataframe tbody tr th:only-of-type {\n",
       "        vertical-align: middle;\n",
       "    }\n",
       "\n",
       "    .dataframe tbody tr th {\n",
       "        vertical-align: top;\n",
       "    }\n",
       "\n",
       "    .dataframe thead th {\n",
       "        text-align: right;\n",
       "    }\n",
       "</style>\n",
       "<table border=\"1\" class=\"dataframe\">\n",
       "  <thead>\n",
       "    <tr style=\"text-align: right;\">\n",
       "      <th></th>\n",
       "      <th>NO</th>\n",
       "      <th>HARGA</th>\n",
       "      <th>LB</th>\n",
       "      <th>LT</th>\n",
       "      <th>KT</th>\n",
       "      <th>KM</th>\n",
       "      <th>GRS</th>\n",
       "    </tr>\n",
       "  </thead>\n",
       "  <tbody>\n",
       "    <tr>\n",
       "      <th>0</th>\n",
       "      <td>1</td>\n",
       "      <td>3800000000</td>\n",
       "      <td>220</td>\n",
       "      <td>220</td>\n",
       "      <td>3</td>\n",
       "      <td>3</td>\n",
       "      <td>1</td>\n",
       "    </tr>\n",
       "    <tr>\n",
       "      <th>1</th>\n",
       "      <td>2</td>\n",
       "      <td>4600000000</td>\n",
       "      <td>180</td>\n",
       "      <td>137</td>\n",
       "      <td>4</td>\n",
       "      <td>3</td>\n",
       "      <td>0</td>\n",
       "    </tr>\n",
       "    <tr>\n",
       "      <th>2</th>\n",
       "      <td>3</td>\n",
       "      <td>3000000000</td>\n",
       "      <td>267</td>\n",
       "      <td>250</td>\n",
       "      <td>4</td>\n",
       "      <td>4</td>\n",
       "      <td>0</td>\n",
       "    </tr>\n",
       "    <tr>\n",
       "      <th>3</th>\n",
       "      <td>4</td>\n",
       "      <td>430000000</td>\n",
       "      <td>40</td>\n",
       "      <td>25</td>\n",
       "      <td>2</td>\n",
       "      <td>2</td>\n",
       "      <td>1</td>\n",
       "    </tr>\n",
       "    <tr>\n",
       "      <th>4</th>\n",
       "      <td>5</td>\n",
       "      <td>9000000000</td>\n",
       "      <td>400</td>\n",
       "      <td>355</td>\n",
       "      <td>6</td>\n",
       "      <td>5</td>\n",
       "      <td>0</td>\n",
       "    </tr>\n",
       "    <tr>\n",
       "      <th>...</th>\n",
       "      <td>...</td>\n",
       "      <td>...</td>\n",
       "      <td>...</td>\n",
       "      <td>...</td>\n",
       "      <td>...</td>\n",
       "      <td>...</td>\n",
       "      <td>...</td>\n",
       "    </tr>\n",
       "    <tr>\n",
       "      <th>2006</th>\n",
       "      <td>2007</td>\n",
       "      <td>16000000000</td>\n",
       "      <td>550</td>\n",
       "      <td>488</td>\n",
       "      <td>6</td>\n",
       "      <td>5</td>\n",
       "      <td>0</td>\n",
       "    </tr>\n",
       "    <tr>\n",
       "      <th>2007</th>\n",
       "      <td>2008</td>\n",
       "      <td>4500000000</td>\n",
       "      <td>270</td>\n",
       "      <td>209</td>\n",
       "      <td>4</td>\n",
       "      <td>4</td>\n",
       "      <td>0</td>\n",
       "    </tr>\n",
       "    <tr>\n",
       "      <th>2008</th>\n",
       "      <td>2009</td>\n",
       "      <td>29000000000</td>\n",
       "      <td>400</td>\n",
       "      <td>692</td>\n",
       "      <td>4</td>\n",
       "      <td>3</td>\n",
       "      <td>1</td>\n",
       "    </tr>\n",
       "    <tr>\n",
       "      <th>2009</th>\n",
       "      <td>2010</td>\n",
       "      <td>1700000000</td>\n",
       "      <td>140</td>\n",
       "      <td>102</td>\n",
       "      <td>4</td>\n",
       "      <td>3</td>\n",
       "      <td>1</td>\n",
       "    </tr>\n",
       "    <tr>\n",
       "      <th>2010</th>\n",
       "      <td>2011</td>\n",
       "      <td>1250000000</td>\n",
       "      <td>110</td>\n",
       "      <td>63</td>\n",
       "      <td>3</td>\n",
       "      <td>3</td>\n",
       "      <td>1</td>\n",
       "    </tr>\n",
       "  </tbody>\n",
       "</table>\n",
       "<p>2011 rows × 7 columns</p>\n",
       "</div>"
      ],
      "text/plain": [
       "        NO        HARGA   LB   LT  KT  KM  GRS\n",
       "0        1   3800000000  220  220   3   3    1\n",
       "1        2   4600000000  180  137   4   3    0\n",
       "2        3   3000000000  267  250   4   4    0\n",
       "3        4    430000000   40   25   2   2    1\n",
       "4        5   9000000000  400  355   6   5    0\n",
       "...    ...          ...  ...  ...  ..  ..  ...\n",
       "2006  2007  16000000000  550  488   6   5    0\n",
       "2007  2008   4500000000  270  209   4   4    0\n",
       "2008  2009  29000000000  400  692   4   3    1\n",
       "2009  2010   1700000000  140  102   4   3    1\n",
       "2010  2011   1250000000  110   63   3   3    1\n",
       "\n",
       "[2011 rows x 7 columns]"
      ]
     },
     "execution_count": 6,
     "metadata": {},
     "output_type": "execute_result"
    }
   ],
   "source": [
    "from sklearn.preprocessing import LabelEncoder, OneHotEncoder \n",
    "label_encode = LabelEncoder()\n",
    "df.loc[:,'GRS'] = label_encode.fit_transform(df.loc[:,'GRS'])\n",
    "df"
   ]
  },
  {
   "cell_type": "code",
   "execution_count": 40,
   "id": "020443e6-6626-4bc4-9f8a-3622de6528ff",
   "metadata": {},
   "outputs": [
    {
     "data": {
      "image/png": "[encoded data removed]",
      "text/plain": [
       "<Figure size 432x288 with 1 Axes>"
      ]
     },
     "metadata": {
      "needs_background": "light"
     },
     "output_type": "display_data"
    },
    {
     "data": {
      "image/png": "[encoded data removed]",
      "text/plain": [
       "<Figure size 432x288 with 1 Axes>"
      ]
     },
     "metadata": {
      "needs_background": "light"
     },
     "output_type": "display_data"
    },
    {
     "data": {
      "image/png": "[encoded data removed]",
      "text/plain": [
       "<Figure size 432x288 with 1 Axes>"
      ]
     },
     "metadata": {
      "needs_background": "light"
     },
     "output_type": "display_data"
    },
    {
     "data": {
      "image/png": "[encoded data removed]",
      "text/plain": [
       "<Figure size 432x288 with 1 Axes>"
      ]
     },
     "metadata": {
      "needs_background": "light"
     },
     "output_type": "display_data"
    },
    {
     "data": {
      "image/png": "[encoded data removed]",
      "text/plain": [
       "<Figure size 432x288 with 1 Axes>"
      ]
     },
     "metadata": {
      "needs_background": "light"
     },
     "output_type": "display_data"
    },
    {
     "data": {
      "image/png": "[encoded data removed]",
      "text/plain": [
       "<Figure size 432x288 with 1 Axes>"
      ]
     },
     "metadata": {
      "needs_background": "light"
     },
     "output_type": "display_data"
    }
   ],
   "source": [
    "bwp_columns = ['HARGA', 'LB', 'LT', 'KT', 'KM', 'GRS']\n",
    "\n",
    "for i in bwp_columns:\n",
    "    df.loc[:, [i]].plot(kind = 'box', sharex = False, sharey = False)"
   ]
  },
  {
   "cell_type": "code",
   "execution_count": 7,
   "id": "7af1ae36-3943-41a0-b15c-17207477fcfe",
   "metadata": {},
   "outputs": [
    {
     "data": {
      "text/plain": [
       "<AxesSubplot:>"
      ]
     },
     "execution_count": 7,
     "metadata": {},
     "output_type": "execute_result"
    },
    {
     "data": {
      "image/png": "[encoded data removed]",
      "text/plain": [
       "<Figure size 432x288 with 2 Axes>"
      ]
     },
     "metadata": {
      "needs_background": "light"
     },
     "output_type": "display_data"
    }
   ],
   "source": [
    "import seaborn as sb\n",
    "\n",
    "korelasi = df.iloc[:,[1,2,3,4,5,6]].corr()\n",
    "sb.heatmap(korelasi, \n",
    "            xticklabels = korelasi.columns,\n",
    "            yticklabels = korelasi.columns,\n",
    "            cmap = sb.diverging_palette(h_neg=250, h_pos=120, sep=3, as_cmap=True),\n",
    "            vmin = -1,\n",
    "            vmax = 1,\n",
    "            annot = True\n",
    "            )"
   ]
  },
  {
   "cell_type": "code",
   "execution_count": 8,
   "id": "45815f2c-110e-426e-a5dd-43f61dd19064",
   "metadata": {},
   "outputs": [
    {
     "data": {
      "text/plain": [
       "array(['NO', 'HARGA', 'LB', 'LT', 'KT', 'KM', 'GRS'], dtype=object)"
      ]
     },
     "execution_count": 8,
     "metadata": {},
     "output_type": "execute_result"
    }
   ],
   "source": [
    "df.columns.values"
   ]
  },
  {
   "cell_type": "code",
   "execution_count": 9,
   "id": "eaf2ae41-f4e2-433b-b598-168a5beb6ed5",
   "metadata": {},
   "outputs": [
    {
     "name": "stdout",
     "output_type": "stream",
     "text": [
      "Covariance of HARGA and LB\n",
      "4061933468486.8057\n",
      "Covariance of HARGA and LT\n",
      "5327089668205.516\n",
      "Covariance of HARGA and KT\n",
      "5870632885.77855\n",
      "Covariance of HARGA and KM\n",
      "7502007360.009331\n",
      "Covariance of HARGA and GRS\n",
      "-285111922.2110003\n"
     ]
    }
   ],
   "source": [
    "for i in range(2,7):\n",
    "    x = df.loc[:, df.columns.values[i]]\n",
    "    y = df.loc[:, 'HARGA']\n",
    "    print(\"Covariance of {} and {}\".format('HARGA', df.columns.values[i]))\n",
    "    print(np.cov(list(x), list(y))[0][1])"
   ]
  },
  {
   "cell_type": "code",
   "execution_count": 10,
   "id": "dc9e734f-ef99-40f5-84de-c109b151a592",
   "metadata": {},
   "outputs": [],
   "source": [
    "X = df[['LB', 'LT', 'KT', 'KM']]\n",
    "y = df.HARGA"
   ]
  },
  {
   "cell_type": "code",
   "execution_count": 11,
   "id": "85b34787-9334-418d-9022-41ede8a715cd",
   "metadata": {},
   "outputs": [
    {
     "data": {
      "text/html": [
       "<div>\n",
       "<style scoped>\n",
       "    .dataframe tbody tr th:only-of-type {\n",
       "        vertical-align: middle;\n",
       "    }\n",
       "\n",
       "    .dataframe tbody tr th {\n",
       "        vertical-align: top;\n",
       "    }\n",
       "\n",
       "    .dataframe thead th {\n",
       "        text-align: right;\n",
       "    }\n",
       "</style>\n",
       "<table border=\"1\" class=\"dataframe\">\n",
       "  <thead>\n",
       "    <tr style=\"text-align: right;\">\n",
       "      <th></th>\n",
       "      <th>LB</th>\n",
       "      <th>LT</th>\n",
       "      <th>KT</th>\n",
       "      <th>KM</th>\n",
       "    </tr>\n",
       "  </thead>\n",
       "  <tbody>\n",
       "    <tr>\n",
       "      <th>0</th>\n",
       "      <td>220</td>\n",
       "      <td>220</td>\n",
       "      <td>3</td>\n",
       "      <td>3</td>\n",
       "    </tr>\n",
       "    <tr>\n",
       "      <th>1</th>\n",
       "      <td>180</td>\n",
       "      <td>137</td>\n",
       "      <td>4</td>\n",
       "      <td>3</td>\n",
       "    </tr>\n",
       "    <tr>\n",
       "      <th>2</th>\n",
       "      <td>267</td>\n",
       "      <td>250</td>\n",
       "      <td>4</td>\n",
       "      <td>4</td>\n",
       "    </tr>\n",
       "    <tr>\n",
       "      <th>3</th>\n",
       "      <td>40</td>\n",
       "      <td>25</td>\n",
       "      <td>2</td>\n",
       "      <td>2</td>\n",
       "    </tr>\n",
       "    <tr>\n",
       "      <th>4</th>\n",
       "      <td>400</td>\n",
       "      <td>355</td>\n",
       "      <td>6</td>\n",
       "      <td>5</td>\n",
       "    </tr>\n",
       "    <tr>\n",
       "      <th>...</th>\n",
       "      <td>...</td>\n",
       "      <td>...</td>\n",
       "      <td>...</td>\n",
       "      <td>...</td>\n",
       "    </tr>\n",
       "    <tr>\n",
       "      <th>2006</th>\n",
       "      <td>550</td>\n",
       "      <td>488</td>\n",
       "      <td>6</td>\n",
       "      <td>5</td>\n",
       "    </tr>\n",
       "    <tr>\n",
       "      <th>2007</th>\n",
       "      <td>270</td>\n",
       "      <td>209</td>\n",
       "      <td>4</td>\n",
       "      <td>4</td>\n",
       "    </tr>\n",
       "    <tr>\n",
       "      <th>2008</th>\n",
       "      <td>400</td>\n",
       "      <td>692</td>\n",
       "      <td>4</td>\n",
       "      <td>3</td>\n",
       "    </tr>\n",
       "    <tr>\n",
       "      <th>2009</th>\n",
       "      <td>140</td>\n",
       "      <td>102</td>\n",
       "      <td>4</td>\n",
       "      <td>3</td>\n",
       "    </tr>\n",
       "    <tr>\n",
       "      <th>2010</th>\n",
       "      <td>110</td>\n",
       "      <td>63</td>\n",
       "      <td>3</td>\n",
       "      <td>3</td>\n",
       "    </tr>\n",
       "  </tbody>\n",
       "</table>\n",
       "<p>2011 rows × 4 columns</p>\n",
       "</div>"
      ],
      "text/plain": [
       "       LB   LT  KT  KM\n",
       "0     220  220   3   3\n",
       "1     180  137   4   3\n",
       "2     267  250   4   4\n",
       "3      40   25   2   2\n",
       "4     400  355   6   5\n",
       "...   ...  ...  ..  ..\n",
       "2006  550  488   6   5\n",
       "2007  270  209   4   4\n",
       "2008  400  692   4   3\n",
       "2009  140  102   4   3\n",
       "2010  110   63   3   3\n",
       "\n",
       "[2011 rows x 4 columns]"
      ]
     },
     "execution_count": 11,
     "metadata": {},
     "output_type": "execute_result"
    }
   ],
   "source": [
    "X"
   ]
  },
  {
   "cell_type": "code",
   "execution_count": 12,
   "id": "f6113ff4-db15-431f-8679-f4ba8632808e",
   "metadata": {},
   "outputs": [
    {
     "name": "stdout",
     "output_type": "stream",
     "text": [
      " 381.4361014420686 359.20056658411033\n",
      " 383.3127797115863 421.96660419457726\n",
      " 4.56340129288911 1.80335043836757\n",
      " 3.773247140726007 1.685849903933497\n"
     ]
    },
    {
     "name": "stderr",
     "output_type": "stream",
     "text": [
      "C:\\Users\\ASUS TUF\\anaconda3\\lib\\site-packages\\pandas\\core\\indexing.py:1773: SettingWithCopyWarning: \n",
      "A value is trying to be set on a copy of a slice from a DataFrame.\n",
      "Try using .loc[row_indexer,col_indexer] = value instead\n",
      "\n",
      "See the caveats in the documentation: https://pandas.pydata.org/pandas-docs/stable/user_guide/indexing.html#returning-a-view-versus-a-copy\n",
      "  self._setitem_single_column(ilocs[0], value, pi)\n"
     ]
    },
    {
     "data": {
      "text/html": [
       "<div>\n",
       "<style scoped>\n",
       "    .dataframe tbody tr th:only-of-type {\n",
       "        vertical-align: middle;\n",
       "    }\n",
       "\n",
       "    .dataframe tbody tr th {\n",
       "        vertical-align: top;\n",
       "    }\n",
       "\n",
       "    .dataframe thead th {\n",
       "        text-align: right;\n",
       "    }\n",
       "</style>\n",
       "<table border=\"1\" class=\"dataframe\">\n",
       "  <thead>\n",
       "    <tr style=\"text-align: right;\">\n",
       "      <th></th>\n",
       "      <th>LB</th>\n",
       "      <th>LT</th>\n",
       "      <th>KT</th>\n",
       "      <th>KM</th>\n",
       "    </tr>\n",
       "  </thead>\n",
       "  <tbody>\n",
       "    <tr>\n",
       "      <th>0</th>\n",
       "      <td>-0.449432</td>\n",
       "      <td>-0.387028</td>\n",
       "      <td>-0.866943</td>\n",
       "      <td>-0.458669</td>\n",
       "    </tr>\n",
       "    <tr>\n",
       "      <th>1</th>\n",
       "      <td>-0.560790</td>\n",
       "      <td>-0.583726</td>\n",
       "      <td>-0.312419</td>\n",
       "      <td>-0.458669</td>\n",
       "    </tr>\n",
       "    <tr>\n",
       "      <th>2</th>\n",
       "      <td>-0.318586</td>\n",
       "      <td>-0.315932</td>\n",
       "      <td>-0.312419</td>\n",
       "      <td>0.134504</td>\n",
       "    </tr>\n",
       "    <tr>\n",
       "      <th>3</th>\n",
       "      <td>-0.950544</td>\n",
       "      <td>-0.849150</td>\n",
       "      <td>-1.421466</td>\n",
       "      <td>-1.051842</td>\n",
       "    </tr>\n",
       "    <tr>\n",
       "      <th>4</th>\n",
       "      <td>0.051681</td>\n",
       "      <td>-0.067097</td>\n",
       "      <td>0.796628</td>\n",
       "      <td>0.727676</td>\n",
       "    </tr>\n",
       "    <tr>\n",
       "      <th>...</th>\n",
       "      <td>...</td>\n",
       "      <td>...</td>\n",
       "      <td>...</td>\n",
       "      <td>...</td>\n",
       "    </tr>\n",
       "    <tr>\n",
       "      <th>2006</th>\n",
       "      <td>0.469275</td>\n",
       "      <td>0.248094</td>\n",
       "      <td>0.796628</td>\n",
       "      <td>0.727676</td>\n",
       "    </tr>\n",
       "    <tr>\n",
       "      <th>2007</th>\n",
       "      <td>-0.310234</td>\n",
       "      <td>-0.413096</td>\n",
       "      <td>-0.312419</td>\n",
       "      <td>0.134504</td>\n",
       "    </tr>\n",
       "    <tr>\n",
       "      <th>2008</th>\n",
       "      <td>0.051681</td>\n",
       "      <td>0.731544</td>\n",
       "      <td>-0.312419</td>\n",
       "      <td>-0.458669</td>\n",
       "    </tr>\n",
       "    <tr>\n",
       "      <th>2009</th>\n",
       "      <td>-0.672148</td>\n",
       "      <td>-0.666671</td>\n",
       "      <td>-0.312419</td>\n",
       "      <td>-0.458669</td>\n",
       "    </tr>\n",
       "    <tr>\n",
       "      <th>2010</th>\n",
       "      <td>-0.755667</td>\n",
       "      <td>-0.759095</td>\n",
       "      <td>-0.866943</td>\n",
       "      <td>-0.458669</td>\n",
       "    </tr>\n",
       "  </tbody>\n",
       "</table>\n",
       "<p>2011 rows × 4 columns</p>\n",
       "</div>"
      ],
      "text/plain": [
       "            LB        LT        KT        KM\n",
       "0    -0.449432 -0.387028 -0.866943 -0.458669\n",
       "1    -0.560790 -0.583726 -0.312419 -0.458669\n",
       "2    -0.318586 -0.315932 -0.312419  0.134504\n",
       "3    -0.950544 -0.849150 -1.421466 -1.051842\n",
       "4     0.051681 -0.067097  0.796628  0.727676\n",
       "...        ...       ...       ...       ...\n",
       "2006  0.469275  0.248094  0.796628  0.727676\n",
       "2007 -0.310234 -0.413096 -0.312419  0.134504\n",
       "2008  0.051681  0.731544 -0.312419 -0.458669\n",
       "2009 -0.672148 -0.666671 -0.312419 -0.458669\n",
       "2010 -0.755667 -0.759095 -0.866943 -0.458669\n",
       "\n",
       "[2011 rows x 4 columns]"
      ]
     },
     "execution_count": 12,
     "metadata": {},
     "output_type": "execute_result"
    }
   ],
   "source": [
    "for column in X.columns:\n",
    "    print(\"\", X[column].mean(), X[column].std())\n",
    "    X.loc[:, column] = (X.loc[:, column] - X.loc[:, column].mean()) / X.loc[:, column].std()\n",
    "\n",
    "X"
   ]
  },
  {
   "cell_type": "code",
   "execution_count": 13,
   "id": "0d798c88-f482-45af-9ff8-e8651307819b",
   "metadata": {},
   "outputs": [
    {
     "data": {
      "text/plain": [
       "0        3800000000\n",
       "1        4600000000\n",
       "2        3000000000\n",
       "3         430000000\n",
       "4        9000000000\n",
       "           ...     \n",
       "2006    16000000000\n",
       "2007     4500000000\n",
       "2008    29000000000\n",
       "2009     1700000000\n",
       "2010     1250000000\n",
       "Name: HARGA, Length: 2011, dtype: int64"
      ]
     },
     "execution_count": 13,
     "metadata": {},
     "output_type": "execute_result"
    }
   ],
   "source": [
    "y"
   ]
  },
  {
   "cell_type": "code",
   "execution_count": 14,
   "id": "40e28e9f-3d61-40fe-b3ec-970249da954c",
   "metadata": {},
   "outputs": [
    {
     "name": "stdout",
     "output_type": "stream",
     "text": [
      "Sebelum normalisasi 12529821426.753855 16323248921.26816\n"
     ]
    }
   ],
   "source": [
    "print(\"Sebelum normalisasi\", y.mean(), y.std())"
   ]
  },
  {
   "cell_type": "code",
   "execution_count": 15,
   "id": "aa41b9a1-3b94-4ab4-b465-b53b2efc3715",
   "metadata": {},
   "outputs": [],
   "source": [
    "y = (y - y.mean()) / y.std()"
   ]
  },
  {
   "cell_type": "code",
   "execution_count": null,
   "id": "87a7d0bb-e22c-438d-8cfd-fd6b26773657",
   "metadata": {},
   "outputs": [],
   "source": []
  },
  {
   "cell_type": "code",
   "execution_count": 16,
   "id": "a87ba7ad-17c8-4654-af12-bdd5db851177",
   "metadata": {},
   "outputs": [
    {
     "data": {
      "text/html": [
       "<div>\n",
       "<style scoped>\n",
       "    .dataframe tbody tr th:only-of-type {\n",
       "        vertical-align: middle;\n",
       "    }\n",
       "\n",
       "    .dataframe tbody tr th {\n",
       "        vertical-align: top;\n",
       "    }\n",
       "\n",
       "    .dataframe thead th {\n",
       "        text-align: right;\n",
       "    }\n",
       "</style>\n",
       "<table border=\"1\" class=\"dataframe\">\n",
       "  <thead>\n",
       "    <tr style=\"text-align: right;\">\n",
       "      <th></th>\n",
       "      <th>LB</th>\n",
       "      <th>LT</th>\n",
       "      <th>KT</th>\n",
       "      <th>KM</th>\n",
       "    </tr>\n",
       "  </thead>\n",
       "  <tbody>\n",
       "    <tr>\n",
       "      <th>0</th>\n",
       "      <td>-0.449432</td>\n",
       "      <td>-0.387028</td>\n",
       "      <td>-0.866943</td>\n",
       "      <td>-0.458669</td>\n",
       "    </tr>\n",
       "    <tr>\n",
       "      <th>1</th>\n",
       "      <td>-0.560790</td>\n",
       "      <td>-0.583726</td>\n",
       "      <td>-0.312419</td>\n",
       "      <td>-0.458669</td>\n",
       "    </tr>\n",
       "    <tr>\n",
       "      <th>2</th>\n",
       "      <td>-0.318586</td>\n",
       "      <td>-0.315932</td>\n",
       "      <td>-0.312419</td>\n",
       "      <td>0.134504</td>\n",
       "    </tr>\n",
       "    <tr>\n",
       "      <th>3</th>\n",
       "      <td>-0.950544</td>\n",
       "      <td>-0.849150</td>\n",
       "      <td>-1.421466</td>\n",
       "      <td>-1.051842</td>\n",
       "    </tr>\n",
       "    <tr>\n",
       "      <th>4</th>\n",
       "      <td>0.051681</td>\n",
       "      <td>-0.067097</td>\n",
       "      <td>0.796628</td>\n",
       "      <td>0.727676</td>\n",
       "    </tr>\n",
       "    <tr>\n",
       "      <th>...</th>\n",
       "      <td>...</td>\n",
       "      <td>...</td>\n",
       "      <td>...</td>\n",
       "      <td>...</td>\n",
       "    </tr>\n",
       "    <tr>\n",
       "      <th>2006</th>\n",
       "      <td>0.469275</td>\n",
       "      <td>0.248094</td>\n",
       "      <td>0.796628</td>\n",
       "      <td>0.727676</td>\n",
       "    </tr>\n",
       "    <tr>\n",
       "      <th>2007</th>\n",
       "      <td>-0.310234</td>\n",
       "      <td>-0.413096</td>\n",
       "      <td>-0.312419</td>\n",
       "      <td>0.134504</td>\n",
       "    </tr>\n",
       "    <tr>\n",
       "      <th>2008</th>\n",
       "      <td>0.051681</td>\n",
       "      <td>0.731544</td>\n",
       "      <td>-0.312419</td>\n",
       "      <td>-0.458669</td>\n",
       "    </tr>\n",
       "    <tr>\n",
       "      <th>2009</th>\n",
       "      <td>-0.672148</td>\n",
       "      <td>-0.666671</td>\n",
       "      <td>-0.312419</td>\n",
       "      <td>-0.458669</td>\n",
       "    </tr>\n",
       "    <tr>\n",
       "      <th>2010</th>\n",
       "      <td>-0.755667</td>\n",
       "      <td>-0.759095</td>\n",
       "      <td>-0.866943</td>\n",
       "      <td>-0.458669</td>\n",
       "    </tr>\n",
       "  </tbody>\n",
       "</table>\n",
       "<p>2011 rows × 4 columns</p>\n",
       "</div>"
      ],
      "text/plain": [
       "            LB        LT        KT        KM\n",
       "0    -0.449432 -0.387028 -0.866943 -0.458669\n",
       "1    -0.560790 -0.583726 -0.312419 -0.458669\n",
       "2    -0.318586 -0.315932 -0.312419  0.134504\n",
       "3    -0.950544 -0.849150 -1.421466 -1.051842\n",
       "4     0.051681 -0.067097  0.796628  0.727676\n",
       "...        ...       ...       ...       ...\n",
       "2006  0.469275  0.248094  0.796628  0.727676\n",
       "2007 -0.310234 -0.413096 -0.312419  0.134504\n",
       "2008  0.051681  0.731544 -0.312419 -0.458669\n",
       "2009 -0.672148 -0.666671 -0.312419 -0.458669\n",
       "2010 -0.755667 -0.759095 -0.866943 -0.458669\n",
       "\n",
       "[2011 rows x 4 columns]"
      ]
     },
     "execution_count": 16,
     "metadata": {},
     "output_type": "execute_result"
    }
   ],
   "source": [
    "X"
   ]
  },
  {
   "cell_type": "code",
   "execution_count": 17,
   "id": "316b2c92-ee53-47e5-a667-1304ac799d42",
   "metadata": {},
   "outputs": [
    {
     "data": {
      "text/plain": [
       "0      -0.534809\n",
       "1      -0.485799\n",
       "2      -0.583819\n",
       "3      -0.741263\n",
       "4      -0.216245\n",
       "          ...   \n",
       "2006    0.212591\n",
       "2007   -0.491925\n",
       "2008    1.009001\n",
       "2009   -0.663460\n",
       "2010   -0.691028\n",
       "Name: HARGA, Length: 2011, dtype: float64"
      ]
     },
     "execution_count": 17,
     "metadata": {},
     "output_type": "execute_result"
    }
   ],
   "source": [
    "y"
   ]
  },
  {
   "cell_type": "code",
   "execution_count": 18,
   "id": "e4aa91bb-a5ff-49fd-8f91-2fed721f61d5",
   "metadata": {},
   "outputs": [
    {
     "data": {
      "text/plain": [
       "False"
      ]
     },
     "execution_count": 18,
     "metadata": {},
     "output_type": "execute_result"
    }
   ],
   "source": [
    "X.isna().any().any()"
   ]
  },
  {
   "cell_type": "code",
   "execution_count": 19,
   "id": "f4c3a66d-6880-400c-a3a9-694ea0fbd191",
   "metadata": {},
   "outputs": [
    {
     "data": {
      "text/plain": [
       "False"
      ]
     },
     "execution_count": 19,
     "metadata": {},
     "output_type": "execute_result"
    }
   ],
   "source": [
    "y.isna().any().any()"
   ]
  },
  {
   "cell_type": "code",
   "execution_count": 20,
   "id": "453d6c93-06bd-40d6-b3e0-d06534e68811",
   "metadata": {},
   "outputs": [],
   "source": [
    "from sklearn.model_selection import train_test_split\n",
    "X_train, X_test, y_train, y_test = train_test_split(X, y, test_size = 0.6, random_state = 0)"
   ]
  },
  {
   "cell_type": "code",
   "execution_count": 21,
   "id": "1361b104-81f0-48a9-a7c1-c724c3bc1ab4",
   "metadata": {},
   "outputs": [],
   "source": [
    "# X_train"
   ]
  },
  {
   "cell_type": "code",
   "execution_count": 22,
   "id": "4b3687cb-f608-4a90-adbb-01dad079ec8d",
   "metadata": {},
   "outputs": [],
   "source": [
    "# y_train"
   ]
  },
  {
   "cell_type": "code",
   "execution_count": 23,
   "id": "06b74971-f000-4e6a-a1d1-e346fe4d2cde",
   "metadata": {},
   "outputs": [],
   "source": [
    "# X_test"
   ]
  },
  {
   "cell_type": "code",
   "execution_count": 24,
   "id": "d56a5eaa-280e-46df-9109-a0b7dc8cf34f",
   "metadata": {},
   "outputs": [],
   "source": [
    "# y_test"
   ]
  },
  {
   "cell_type": "code",
   "execution_count": 25,
   "id": "e8aeec0c-f79f-4fc2-896a-14092e130190",
   "metadata": {},
   "outputs": [
    {
     "data": {
      "text/plain": [
       "LinearRegression()"
      ]
     },
     "execution_count": 25,
     "metadata": {},
     "output_type": "execute_result"
    }
   ],
   "source": [
    "from sklearn.linear_model import LinearRegression\n",
    "model = LinearRegression()\n",
    "model.fit(X_train, y_train.values.ravel())"
   ]
  },
  {
   "cell_type": "code",
   "execution_count": 26,
   "id": "d9ba8587-2aa5-493c-bdb4-675403f4f16f",
   "metadata": {},
   "outputs": [
    {
     "name": "stdout",
     "output_type": "stream",
     "text": [
      "Test Score : 0.5701117601538825\n"
     ]
    }
   ],
   "source": [
    "predict_test = model.predict(X_test)\n",
    "# abs(predict_test)\n",
    "print(\"Test Score : \" + str(model.score(X_test, y_test)))"
   ]
  },
  {
   "cell_type": "code",
   "execution_count": 27,
   "id": "4ad4487c-3904-47b1-bffd-abcebde4d57a",
   "metadata": {},
   "outputs": [
    {
     "name": "stdout",
     "output_type": "stream",
     "text": [
      "Train Score : 0.6609139901712071\n"
     ]
    }
   ],
   "source": [
    "predict_train = model.predict(X_train)\n",
    "# abs(predict_train)\n",
    "print(\"Train Score : \" + str(model.score(X_train, y_train)))"
   ]
  },
  {
   "cell_type": "code",
   "execution_count": 28,
   "id": "fda8d90e-ba69-4d28-b7b7-e73386c18ff8",
   "metadata": {},
   "outputs": [],
   "source": [
    "def PRINT(a,b):\n",
    "    print(str.ljust(a, 35), b)"
   ]
  },
  {
   "cell_type": "code",
   "execution_count": 29,
   "id": "177fb843-36a6-44c3-846e-c11caa4829e6",
   "metadata": {},
   "outputs": [],
   "source": [
    "from sklearn.metrics import mean_absolute_error\n",
    "from sklearn.metrics import mean_squared_error\n",
    "from sklearn.metrics import r2_score "
   ]
  },
  {
   "cell_type": "code",
   "execution_count": 30,
   "id": "755267ae-0a5d-47e5-8880-2fd4bf7abef7",
   "metadata": {},
   "outputs": [
    {
     "name": "stdout",
     "output_type": "stream",
     "text": [
      "MAE, MSE, RMSE, R2 Score for Testing Data\n",
      "MAE (Mean Absolute Error)           0.2675510563148831\n",
      "MSE (Mean Squared Error)            0.38440775732771065\n",
      "RMSE (Root of Mean Squared Error)   0.6200062558778828\n",
      "R2 (R2 Score)                       0.5701117601538825\n"
     ]
    }
   ],
   "source": [
    "print(\"MAE, MSE, RMSE, R2 Score for Testing Data\")\n",
    "PRINT(\"MAE (Mean Absolute Error)\", mean_absolute_error(y_test, predict_test))\n",
    "PRINT(\"MSE (Mean Squared Error)\", mean_squared_error(y_test, predict_test))\n",
    "PRINT(\"RMSE (Root of Mean Squared Error)\", mean_squared_error(y_test, predict_test, squared = False))\n",
    "PRINT(\"R2 (R2 Score)\", r2_score(y_test, predict_test))"
   ]
  },
  {
   "cell_type": "code",
   "execution_count": 31,
   "id": "69bb5256-9874-43a5-a843-9d22a8b653f7",
   "metadata": {},
   "outputs": [
    {
     "name": "stdout",
     "output_type": "stream",
     "text": [
      "MAE, MSE, RMSE, R2 Score for Training Data\n",
      "MAE (Mean Absolute Error)           0.2720203084072337\n",
      "MSE (Mean Squared Error)            0.3922558215549916\n",
      "RMSE (Root of Mean Squared Error)   0.6263032983746706\n",
      "R2 (R2 Score)                       0.6609139901712071\n"
     ]
    }
   ],
   "source": [
    "print(\"MAE, MSE, RMSE, R2 Score for Training Data\")\n",
    "PRINT(\"MAE (Mean Absolute Error)\", mean_absolute_error(y_train, predict_train))\n",
    "PRINT(\"MSE (Mean Squared Error)\", mean_squared_error(y_train, predict_train))\n",
    "PRINT(\"RMSE (Root of Mean Squared Error)\", mean_squared_error(y_train, predict_train, squared = False))\n",
    "PRINT(\"R2 (R2 Score)\", r2_score(y_train, predict_train))"
   ]
  },
  {
   "cell_type": "code",
   "execution_count": 32,
   "id": "c4b8d4ea-36af-42cb-94cc-b0561d760b32",
   "metadata": {},
   "outputs": [
    {
     "name": "stdout",
     "output_type": "stream",
     "text": [
      "0.37210847216041837\n",
      "0.6509273591933307\n",
      "-0.041073854049557594\n",
      "0.047985319817969156\n"
     ]
    }
   ],
   "source": [
    "koefisien = model.coef_\n",
    "for i in koefisien:\n",
    "    print(i)"
   ]
  },
  {
   "cell_type": "code",
   "execution_count": 33,
   "id": "e9c26319-b495-499d-a5f9-ee6ebad846bb",
   "metadata": {},
   "outputs": [
    {
     "data": {
      "text/plain": [
       "0.004877398351060949"
      ]
     },
     "execution_count": 33,
     "metadata": {},
     "output_type": "execute_result"
    }
   ],
   "source": [
    "model.intercept_"
   ]
  },
  {
   "cell_type": "code",
   "execution_count": 34,
   "id": "de38ff12-160f-42b9-b15f-d1ae1330ffbd",
   "metadata": {},
   "outputs": [
    {
     "data": {
      "image/png": "[encoded data removed]",
      "text/plain": [
       "<Figure size 1080x504 with 2 Axes>"
      ]
     },
     "metadata": {
      "needs_background": "light"
     },
     "output_type": "display_data"
    }
   ],
   "source": [
    "import matplotlib.pyplot as plt\n",
    "fig, (x1, x2) = plt.subplots(1, 2, figsize = (15, 7))\n",
    "fig.suptitle('Scatter of predict result')\n",
    "x1.scatter(y_train, predict_train)\n",
    "x1.set_title('Prediction Train Data')\n",
    "x1.set_ylabel('y_prediction')\n",
    "x1.set_xlabel('y_train')\n",
    "x2.scatter(y_test, predict_test)\n",
    "x2.set_title('Prediction Test Data')\n",
    "x2.set_ylabel('y_prediction')\n",
    "x2.set_xlabel('y_test')\n",
    "plt.show()"
   ]
  },
  {
   "cell_type": "code",
   "execution_count": 35,
   "id": "13703c29-49b6-4919-b0f9-77654e059441",
   "metadata": {},
   "outputs": [],
   "source": [
    "import pickle"
   ]
  },
  {
   "cell_type": "code",
   "execution_count": 36,
   "id": "99805b26-5ea4-4ddd-ac62-488c81b5bfdc",
   "metadata": {},
   "outputs": [],
   "source": [
    "filename = \"model.sav\"\n",
    "pickle.dump(model, open(filename, 'wb'))"
   ]
  },
  {
   "cell_type": "code",
   "execution_count": null,
   "id": "8908129d-5ef0-4bc9-8bde-a69df124e0f3",
   "metadata": {},
   "outputs": [],
   "source": []
  }
 ],
 "metadata": {
  "kernelspec": {
   "display_name": "Python 3 (ipykernel)",
   "language": "python",
   "name": "python3"
  },
  "language_info": {
   "codemirror_mode": {
    "name": "ipython",
    "version": 3
   },
   "file_extension": ".py",
   "mimetype": "text/x-python",
   "name": "python",
   "nbconvert_exporter": "python",
   "pygments_lexer": "ipython3",
   "version": "3.9.7"
  }
 },
 "nbformat": 4,
 "nbformat_minor": 5
}
